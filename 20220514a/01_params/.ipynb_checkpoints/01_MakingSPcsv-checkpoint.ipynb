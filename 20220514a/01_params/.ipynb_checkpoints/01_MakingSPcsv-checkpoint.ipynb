{
 "cells": [
  {
   "cell_type": "markdown",
   "metadata": {},
   "source": [
    "# star_plate.csv の生成"
   ]
  },
  {
   "cell_type": "markdown",
   "metadata": {},
   "source": [
    "ここでは star_plate.csv の生成について考える。今回は実験的なもので、等間隔に星を散らばらせようと思う。これまでのデータを見ると、星は 25 pix くらい距離が離れていれば重ならなさそうにみえる。検出器は 1920 pix のフォーマットなので、 一辺アタリ 70 天体程度天体を置くことができる。しかし 70 x 70 も天体を置くと膨大な計算時間が必要となるため、せいぜい 20 x 20 程度にすることを考える。このくらいの個数で格子状に天体を配置することを考える。"
   ]
  },
  {
   "cell_type": "markdown",
   "metadata": {},
   "source": [
    "star_plate.csv に必要となるのは plate index, star index, x pixel, y pixel, lambda, beta, Hwmag, nphoton である。が、現在は plate index = 0, star index 適当、x/y pixel グリッド状配置、Hwmag は後で適当に変えることにして 12.0 mag、などにして後は適当な値を入れておけばよい。適当な値はわかりやすく適当な値を入れよう。"
   ]
  },
  {
   "cell_type": "markdown",
   "metadata": {},
   "source": [
    "ということで、一辺あたりの天体数を $n_{obj}$ として、適当な star_plate.csv を生成する。検出器フォーマットは $n_{pix}$ としよう。x/y pixel は完全なグリッドにすると PSF のピクセルへの載り方が一辺倒になるので、適当な乱数でばらしてみる。乱数のシードは適当に設定できるようにしよう。という感じで star_plate.csv を生成する関数を下記の通り定義。"
   ]
  },
  {
   "cell_type": "code",
   "execution_count": 1,
   "metadata": {},
   "outputs": [],
   "source": [
    "import numpy as np\n",
    "\n",
    "def mk_spcsv(nobj, npix, seedx, seedy, mag, filename):\n",
    "    dpix = int(npix/nobj)\n",
    "    py, px = (np.indices((nobj, nobj))+0.5)*dpix\n",
    "    py = np.array(py, dtype='int').flatten()\n",
    "    px = np.array(px, dtype='int').flatten()\n",
    "\n",
    "    rng = np.random.default_rng(seedx)\n",
    "    dpx = rng.normal(loc=0., scale=1.0, size=np.size(px))\n",
    "\n",
    "    rng = np.random.default_rng(seedy)\n",
    "    dpy = rng.normal(loc=0., scale=1.0, size=np.size(py))\n",
    "\n",
    "    px = px + dpx\n",
    "    py = py + dpy\n",
    "\n",
    "    pl_idx = np.zeros_like(px)\n",
    "    st_idx = np.arange(0,np.size(px))\n",
    "    lmd = np.ones_like(px) * 999\n",
    "    bet = np.ones_like(px) * 999\n",
    "    hwm = np.ones_like(px) * mag\n",
    "    nph = np.ones_like(px) * 999\n",
    "    \n",
    "    np.savetxt(filename, np.array([pl_idx, st_idx, px, py, lmd, bet, hwm, nph]).T, fmt=\"%d,%d,%e,%e,%.3f,%.3f,%.1f,%.1f\",\\\n",
    "              header=\"plate index,star index,x pixel,y pixel,lambda,beta,Hwmag,nphoton\", comments=\"\")\n",
    "    \n",
    "    return"
   ]
  },
  {
   "cell_type": "markdown",
   "metadata": {},
   "source": [
    "それでは生成してみる。"
   ]
  },
  {
   "cell_type": "code",
   "execution_count": 2,
   "metadata": {},
   "outputs": [],
   "source": [
    "for nobj in [20]:\n",
    "    for ds in range(0,10):\n",
    "        seedx = 10+ds\n",
    "        seedy = 20+ds\n",
    "        for mag in [12.0]:\n",
    "            mk_spcsv(nobj, 1920, seedx, seedy, mag, \"spcsv_{:02d}_1920_{}_{}_{}.csv\".format(nobj, seedx, seedy, mag))"
   ]
  },
  {
   "cell_type": "code",
   "execution_count": null,
   "metadata": {},
   "outputs": [],
   "source": []
  }
 ],
 "metadata": {
  "kernelspec": {
   "display_name": "Python 3",
   "language": "python",
   "name": "python3"
  },
  "language_info": {
   "codemirror_mode": {
    "name": "ipython",
    "version": 3
   },
   "file_extension": ".py",
   "mimetype": "text/x-python",
   "name": "python",
   "nbconvert_exporter": "python",
   "pygments_lexer": "ipython3",
   "version": "3.7.1"
  }
 },
 "nbformat": 4,
 "nbformat_minor": 2
}
