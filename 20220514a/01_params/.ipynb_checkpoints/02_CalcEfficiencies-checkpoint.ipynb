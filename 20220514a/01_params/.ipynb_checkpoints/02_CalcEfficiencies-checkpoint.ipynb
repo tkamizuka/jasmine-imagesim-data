{
 "cells": [
  {
   "cell_type": "markdown",
   "metadata": {},
   "source": [
    "# Making efficiency data"
   ]
  },
  {
   "cell_type": "markdown",
   "metadata": {},
   "source": [
    "## Import modules\n",
    "Here, we use the telescope_baseline module on the develop branch at 57b113 commit."
   ]
  },
  {
   "cell_type": "code",
   "execution_count": 10,
   "metadata": {},
   "outputs": [],
   "source": [
    "import numpy as np\n",
    "import pkg_resources\n",
    "import matplotlib.pylab as plt\n",
    "from scipy.interpolate import interp1d\n",
    "from telescope_baseline.dataclass.efficiency import Efficiency"
   ]
  },
  {
   "cell_type": "markdown",
   "metadata": {},
   "source": [
    "## Load the data"
   ]
  },
  {
   "cell_type": "code",
   "execution_count": 11,
   "metadata": {},
   "outputs": [],
   "source": [
    "json_teleff = pkg_resources.resource_filename('telescope_baseline', 'data/teleff.json')\n",
    "json_qe = pkg_resources.resource_filename('telescope_baseline', 'data/qe/qe170.json')\n",
    "json_filter09 = pkg_resources.resource_filename('telescope_baseline', 'data/filter/filter090.json')\n",
    "json_filter10 = pkg_resources.resource_filename('telescope_baseline', 'data/filter/filter100.json')"
   ]
  },
  {
   "cell_type": "code",
   "execution_count": 12,
   "metadata": {},
   "outputs": [],
   "source": [
    "tel  = Efficiency.from_json(json_teleff)\n",
    "qe   = Efficiency.from_json(json_qe)\n",
    "f090 = Efficiency.from_json(json_filter09)\n",
    "f100 = Efficiency.from_json(json_filter10)"
   ]
  },
  {
   "cell_type": "markdown",
   "metadata": {},
   "source": [
    "## Make interpolation functions"
   ]
  },
  {
   "cell_type": "code",
   "execution_count": 13,
   "metadata": {},
   "outputs": [],
   "source": [
    "ftel  = interp1d(tel.wavelength, tel.efficiency, bounds_error=False)\n",
    "fqe   = interp1d(qe.wavelength, qe.efficiency, bounds_error=False)\n",
    "ff090 = interp1d(f090.wavelength, f090.efficiency, bounds_error=False)\n",
    "ff100 = interp1d(f100.wavelength, f100.efficiency, bounds_error=False)"
   ]
  },
  {
   "cell_type": "markdown",
   "metadata": {},
   "source": [
    "## Prepare wavelength grid"
   ]
  },
  {
   "cell_type": "code",
   "execution_count": 14,
   "metadata": {},
   "outputs": [],
   "source": [
    "wl090 = np.unique(np.sort(np.concatenate((tel.wavelength, qe.wavelength, f090.wavelength))))\n",
    "wl100 = np.unique(np.sort(np.concatenate((tel.wavelength, qe.wavelength, f100.wavelength))))"
   ]
  },
  {
   "cell_type": "markdown",
   "metadata": {},
   "source": [
    "## Multiply efficiencies"
   ]
  },
  {
   "cell_type": "code",
   "execution_count": 20,
   "metadata": {},
   "outputs": [],
   "source": [
    "eff_090 = ftel(wl090)*fqe(wl090)*ff090(wl090)\n",
    "opteff090 = ftel(wl090)*ff090(wl090)\n",
    "qe_090 = fqe(wl090)\n",
    "eff_100 = ftel(wl100)*fqe(wl100)*ff100(wl100)\n",
    "opteff100 = ftel(wl100)*ff100(wl100)\n",
    "qe_100 = fqe(wl100)"
   ]
  },
  {
   "cell_type": "markdown",
   "metadata": {},
   "source": [
    "## Remove nan data"
   ]
  },
  {
   "cell_type": "code",
   "execution_count": 21,
   "metadata": {},
   "outputs": [],
   "source": [
    "pos = np.where(eff_090==eff_090)\n",
    "wl090 = np.array(wl090[pos])\n",
    "eff_090 = np.array(eff_090[pos])\n",
    "opteff090 = np.array(opteff090[pos])\n",
    "qe_090 = np.array(qe_090[pos])\n",
    "\n",
    "pos = np.where(eff_100==eff_100)\n",
    "wl100 = np.array(wl100[pos])\n",
    "eff_100 = np.array(eff_100[pos])\n",
    "opteff100 = np.array(opteff100[pos])\n",
    "qe_100 = np.array(qe_100[pos])"
   ]
  },
  {
   "cell_type": "markdown",
   "metadata": {},
   "source": [
    "## Plot for confirmation"
   ]
  },
  {
   "cell_type": "code",
   "execution_count": 22,
   "metadata": {},
   "outputs": [
    {
     "data": {
      "text/plain": [
       "Text(0, 0.5, 'Efficiency')"
      ]
     },
     "execution_count": 22,
     "metadata": {},
     "output_type": "execute_result"
    },
    {
     "data": {
      "image/png": "[encoded data removed]",
      "text/plain": [
       "<Figure size 432x288 with 1 Axes>"
      ]
     },
     "metadata": {
      "needs_background": "light"
     },
     "output_type": "display_data"
    }
   ],
   "source": [
    "plt.plot(wl090, eff_090, 'x-', label='0.9-um cutoff (all)')\n",
    "plt.plot(wl090, opteff090, 'x--', label='0.9-um cutoff (opt)')\n",
    "plt.plot(wl100, eff_100, '+-', label='1.0-um cutoff (all)')\n",
    "plt.plot(wl100, opteff100, '+--', label='1.0-um cutoff (opt)')\n",
    "plt.legend()\n",
    "plt.xlim([0.8, 1.85])\n",
    "plt.ylim([-0.1, 1.0])\n",
    "plt.xlabel('Wavelength (um)')\n",
    "plt.ylabel('Efficiency')"
   ]
  },
  {
   "cell_type": "markdown",
   "metadata": {},
   "source": [
    "## Save the data"
   ]
  },
  {
   "cell_type": "code",
   "execution_count": 23,
   "metadata": {},
   "outputs": [],
   "source": [
    "np.savetxt('efficiency090.dat', np.array([wl090, eff_090]).T, fmt='%7.5f %4.2f')\n",
    "np.savetxt('efficiency100.dat', np.array([wl100, eff_100]).T, fmt='%7.5f %4.2f')\n",
    "\n",
    "np.savetxt('opt_efficiency090.dat', np.array([wl090, opteff090]).T, fmt='%7.5f %4.2f')\n",
    "np.savetxt('opt_efficiency100.dat', np.array([wl100, opteff100]).T, fmt='%7.5f %4.2f')\n",
    "\n",
    "np.savetxt('qe_efficiency090.dat', np.array([wl090, qe_090]).T, fmt='%7.5f %4.2f')\n",
    "np.savetxt('qe_efficiency100.dat', np.array([wl100, qe_100]).T, fmt='%7.5f %4.2f')"
   ]
  },
  {
   "cell_type": "code",
   "execution_count": null,
   "metadata": {},
   "outputs": [],
   "source": []
  }
 ],
 "metadata": {
  "kernelspec": {
   "display_name": "Python 3",
   "language": "python",
   "name": "python3"
  },
  "language_info": {
   "codemirror_mode": {
    "name": "ipython",
    "version": 3
   },
   "file_extension": ".py",
   "mimetype": "text/x-python",
   "name": "python",
   "nbconvert_exporter": "python",
   "pygments_lexer": "ipython3",
   "version": "3.8.3"
  }
 },
 "nbformat": 4,
 "nbformat_minor": 4
}
