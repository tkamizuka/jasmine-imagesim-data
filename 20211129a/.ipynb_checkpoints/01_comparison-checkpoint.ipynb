{
 "cells": [
  {
   "cell_type": "markdown",
   "metadata": {},
   "source": [
    "# Comparison"
   ]
  },
  {
   "cell_type": "markdown",
   "metadata": {},
   "source": [
    "Here, we compare the results stored in 02_results_2* directories to evaluate the impact of each noise source on the position determination accuracy."
   ]
  },
  {
   "cell_type": "code",
   "execution_count": 1,
   "metadata": {},
   "outputs": [],
   "source": [
    "import numpy as np\n",
    "import matplotlib.pylab as plt"
   ]
  },
  {
   "cell_type": "markdown",
   "metadata": {},
   "source": [
    "We store the results in 02_results_2* directories to data? arrays. These are calculated in analysis02.ipynb in each directory."
   ]
  },
  {
   "cell_type": "code",
   "execution_count": 2,
   "metadata": {},
   "outputs": [],
   "source": [
    "data1 = np.array([[12.0, 0.00719, 0.00006],\n",
    "                   [12.5, 0.00953, 0.00011],\n",
    "                   [13.0, 0.01274, 0.00015],\n",
    "                   [13.5, 0.01799, 0.00015],\n",
    "                   [14.0, 0.02577, 0.00028],\n",
    "                   [14.5, 0.03877, 0.00040]])\n",
    "\n",
    "# ctl2: real PSF.\n",
    "data2 = np.array([[12.0, 0.00376, 0.00003],\n",
    "                  [12.5, 0.00438, 0.00005],\n",
    "                  [13.0, 0.00514, 0.00009],\n",
    "                  [13.5, 0.00632, 0.00010],\n",
    "                  [14.0, 0.00784, 0.00009],\n",
    "                  [14.5, 0.01087, 0.00017]])\n",
    "\n",
    "# ctl3: real PSF + 1% flat fluc.\n",
    "data3 = np.array([[12.0, 0.00460, 0.00003],\n",
    "                  [12.5, 0.00511, 0.00007],\n",
    "                  [13.0, 0.00566, 0.00008],\n",
    "                  [13.5, 0.00670, 0.00010],\n",
    "                  [14.0, 0.00843, 0.00011],\n",
    "                  [14.5, 0.01077, 0.00016]])\n",
    "\n",
    "# ctl4: real PSF + 1% flat fluc. + 276-mas gauss ACE.\n",
    "data4 = np.array([[12.0, 0.00464, 0.00005],\n",
    "                  [12.5, 0.00574, 0.00006],\n",
    "                  [13.0, 0.00716, 0.00007],\n",
    "                  [13.5, 0.00948, 0.00010],\n",
    "                  [14.0, 0.01217, 0.00016],\n",
    "                  [14.5, 0.01774, 0.00020]])\n",
    "\n",
    "# ctl5: real PSF + 1% flat fluc. + 276-mas gauss ACE + real WFE.\n",
    "data5 = np.array([[12.0, 0.00486, 0.00004],\n",
    "                  [12.5, 0.00581, 0.00004],\n",
    "                  [13.0, 0.00716, 0.00008],\n",
    "                  [13.5, 0.00937, 0.00011],\n",
    "                  [14.0, 0.01275, 0.00013],\n",
    "                  [14.5, 0.01754, 0.00025]])\n",
    "\n",
    "# ctl6: same as ctl5, but dtace is set to a larger value than in ctl5.\n",
    "# skip because it is almost the same as ctl5.\n",
    "\n",
    "# ctl7: real PSF + 1% flat fluc. + real WFE.\n",
    "data6 = np.array([[12.0, 0.00482, 0.00007],\n",
    "                  [12.5, 0.00528, 0.00009],\n",
    "                  [13.0, 0.00579, 0.00011],\n",
    "                  [13.5, 0.00694, 0.00008],\n",
    "                  [14.0, 0.00853, 0.00008],\n",
    "                  [14.5, 0.01103, 0.00012]])\n",
    "\n",
    "# ctl8: real PSF + real WFE.\n",
    "data7 = np.array([[12.0, 0.00408, 0.00007],\n",
    "                  [12.5, 0.00446, 0.00007],\n",
    "                  [13.0, 0.00536, 0.00009],\n",
    "                  [13.5, 0.00632, 0.00009],\n",
    "                  [14.0, 0.00825, 0.00007],\n",
    "                  [14.5, 0.01087, 0.00014]])\n",
    "\n",
    "# ctl8_det2: real PSF + real WFE + offset (due to the gap)\n",
    "data8 = np.array([[12.0, 0.00434, 0.00006],\n",
    "                  [12.5, 0.00491, 0.00005],\n",
    "                  [13.0, 0.00549, 0.00009],\n",
    "                  [13.5, 0.00644, 0.00010],\n",
    "                  [14.0, 0.00847, 0.00011],\n",
    "                  [14.5, 0.01132, 0.00013]])"
   ]
  },
  {
   "cell_type": "code",
   "execution_count": 3,
   "metadata": {},
   "outputs": [
    {
     "data": {
      "image/png": "[encoded data removed]",
      "text/plain": [
       "<Figure size 432x288 with 1 Axes>"
      ]
     },
     "metadata": {
      "needs_background": "light"
     },
     "output_type": "display_data"
    }
   ],
   "source": [
    "#plt.errorbar(data1[:,0], data1[:,1], yerr=data1[:,2], capsize=5, fmt='o', markersize=2, \n",
    "#             ecolor='black', markeredgecolor = \"black\", color='w',\n",
    "#             label='Gaussian PSF w/o flat/ace/wfe effects (fwhm ~ 4 px)')\n",
    "plt.errorbar(data2[:,0], data2[:,1], yerr=data2[:,2], capsize=5, fmt='o', markersize=2, \n",
    "             ecolor='red', markeredgecolor = \"red\", color='w',\n",
    "             label='w/o flat/ace/wfe effects')\n",
    "plt.errorbar(data3[:,0], data3[:,1], yerr=data3[:,2], capsize=5, fmt='o', markersize=2, \n",
    "             ecolor='blue', markeredgecolor = \"blue\", color='w',\n",
    "             label='w/ flat effect')\n",
    "plt.errorbar(data4[:,0], data4[:,1], yerr=data4[:,2], capsize=5, fmt='o', markersize=2, \n",
    "             ecolor='green', markeredgecolor = \"green\", color='w',\n",
    "             label='w/ flat/ACE effects')\n",
    "plt.errorbar(data5[:,0], data5[:,1], yerr=data5[:,2], capsize=5, fmt='o', markersize=2, \n",
    "             ecolor='purple', markeredgecolor = \"purple\", color='w',\n",
    "             label='w/ flat/ace/wfe effects')\n",
    "plt.errorbar(data6[:,0], data6[:,1], yerr=data6[:,2], capsize=5, fmt='o', markersize=2, \n",
    "             ecolor='pink', markeredgecolor = \"pink\", color='w',\n",
    "             label='w/ flat/wfe effects')\n",
    "plt.errorbar(data7[:,0], data7[:,1], yerr=data7[:,2], capsize=5, fmt='o', markersize=2, \n",
    "             ecolor='orange', markeredgecolor = \"orange\", color='w',\n",
    "             label='w/ wfe effect')\n",
    "plt.errorbar(data8[:,0], data8[:,1], yerr=data8[:,2], capsize=5, fmt='o', markersize=2, \n",
    "             ecolor='black', markeredgecolor = \"black\", color='w',\n",
    "             label='w/ wfe effect and offset')\n",
    "plt.yscale('log')\n",
    "plt.xlabel('Object magnitude (mag)')\n",
    "plt.ylabel('Evaluated accuracy (px)')\n",
    "plt.legend()\n",
    "plt.show()"
   ]
  },
  {
   "cell_type": "code",
   "execution_count": null,
   "metadata": {},
   "outputs": [],
   "source": []
  }
 ],
 "metadata": {
  "kernelspec": {
   "display_name": "Python 3",
   "language": "python",
   "name": "python3"
  },
  "language_info": {
   "codemirror_mode": {
    "name": "ipython",
    "version": 3
   },
   "file_extension": ".py",
   "mimetype": "text/x-python",
   "name": "python",
   "nbconvert_exporter": "python",
   "pygments_lexer": "ipython3",
   "version": "3.7.1"
  }
 },
 "nbformat": 4,
 "nbformat_minor": 2
}
