{
 "cells": [
  {
   "cell_type": "markdown",
   "metadata": {},
   "source": [
    "# Astrometric analysis with ePSF"
   ]
  },
  {
   "cell_type": "markdown",
   "metadata": {},
   "source": [
    "## Importing some modules"
   ]
  },
  {
   "cell_type": "code",
   "execution_count": 6,
   "metadata": {},
   "outputs": [],
   "source": [
    "import copy, warnings\n",
    "import numpy as np\n",
    "import matplotlib.pyplot as plt\n",
    "import astropy.io.fits as pf\n",
    "from astropy.modeling import models, fitting\n",
    "from astropy.nddata import NDData\n",
    "from astropy.stats import sigma_clipped_stats\n",
    "from astropy.table import Table\n",
    "from astropy.visualization import simple_norm\n",
    "from photutils.background import MMMBackground\n",
    "from photutils.detection import find_peaks\n",
    "from photutils.psf import EPSFBuilder, extract_stars"
   ]
  },
  {
   "cell_type": "markdown",
   "metadata": {},
   "source": [
    "## Defining a function"
   ]
  },
  {
   "cell_type": "code",
   "execution_count": 7,
   "metadata": {},
   "outputs": [],
   "source": [
    "def func(filename, sp_filename, mag, ndiv):\n",
    "    '''\n",
    "    filename: Name of the input FITS file.\n",
    "    sp_filename: Name of the input star-plate file.\n",
    "    '''\n",
    "    \n",
    "    mask_size = 25   # Edge mask size.\n",
    "    ext_size  = 9    # Size of extraction window.\n",
    "    n_oversample = 4 # Number of oversampling for ePSF.\n",
    "    n_maxiter    = 3 # Max. number of iteration for making ePSF.\n",
    "    threshold = 3000.*10.**((mag-12.0)/(-2.5))\n",
    "    print(\"Analyzing {}...\".format(filename))\n",
    "    \n",
    "    # Loading image.\n",
    "    hdu = pf.open(filename)[0]\n",
    "    data = hdu.data.astype(np.float32)\n",
    "    norm = simple_norm(data, 'sqrt', percent=99.)\n",
    "#    plt.imshow(data, norm=norm, origin='lower', cmap='viridis')\n",
    "#    plt.xlabel('X (px)')\n",
    "#    plt.ylabel('Y (px)')\n",
    "#    plt.show()\n",
    "    \n",
    "    # Finding peaks.\n",
    "    peaks_tbl = find_peaks(data, threshold=threshold)\n",
    "    peaks_tbl['peak_value'].info.format = '%.8g'  # for consistent table output\n",
    "#    print(peaks_tbl)\n",
    "    \n",
    "    # Removing detections near edge.\n",
    "    hsize = (mask_size - 1) / 2\n",
    "    x = peaks_tbl['x_peak'] \n",
    "    y = peaks_tbl['y_peak'] \n",
    "    mask = ((x > hsize) & (x < (data.shape[1] -1 - hsize)) &\n",
    "            (y > hsize) & (y < (data.shape[0] -1 - hsize)))\n",
    "    stars_tbl = Table()\n",
    "    stars_tbl['x'] = x[mask]\n",
    "    stars_tbl['y'] = y[mask]\n",
    "#    print(stars_tbl)\n",
    "    \n",
    "    # Subtracting background.\n",
    "    mean_val, median_val, std_val = sigma_clipped_stats(data, sigma=2.)  \n",
    "    image = copy.deepcopy(data)\n",
    "    data -= mean_val\n",
    "#    plt.imshow(data, norm=norm, origin='lower', cmap='viridis')\n",
    "#    plt.xlabel('X (px)')\n",
    "#    plt.ylabel('Y (px)')\n",
    "\n",
    "    # Extracting stellar images.\n",
    "    nddata = NDData(data=data)\n",
    "#    print(nddata.data.shape)\n",
    "    stars0 = extract_stars(nddata, stars_tbl, size=ext_size)\n",
    "    \n",
    "    stddxarr=[]; stddyarr=[]; stddrarr=[];\n",
    "    for idiv in range(ndiv):\n",
    "        stars = stars0[idiv::ndiv]\n",
    "#        nrows = 10\n",
    "#        ncols = 10\n",
    "#        fig, ax = plt.subplots(nrows=nrows, ncols=ncols, figsize=(20, 20), squeeze=True)\n",
    "#        ax = ax.ravel()\n",
    "#        for i in range(nrows*ncols):\n",
    "#            norm = simple_norm(stars[i], 'log', percent=99.)\n",
    "#            ax[i].imshow(stars[i], norm=norm, origin='lower', cmap='viridis')\n",
    "#        plt.show()\n",
    "\n",
    "        # Making ePSF.\n",
    "        epsf_builder = EPSFBuilder(oversampling=n_oversample,\n",
    "                                   maxiters=n_maxiter, progress_bar=True)\n",
    "        epsf, fitted_stars = epsf_builder(stars)\n",
    "#        norm = simple_norm(epsf.data, 'log', percent=99.)\n",
    "#        plt.imshow(epsf.data, norm=norm, origin='lower', cmap='viridis')\n",
    "#        plt.xlabel('X (oversampled pix)')\n",
    "#        plt.ylabel('Y (oversampled pix)')\n",
    "#        plt.colorbar()\n",
    "#        plt.show()\n",
    "\n",
    "        # Loading stellar-plate data.\n",
    "        original = np.loadtxt(sp_filename,skiprows=1,delimiter=\",\")\n",
    "    \n",
    "        # Cross-checking the data.\n",
    "        xc_array = []\n",
    "        for o in original:\n",
    "            diff = fitted_stars.center_flat-np.array([o[2],o[3]])\n",
    "            p = np.where(diff[:,0]**2.+diff[:,1]**2.<10.**2.)\n",
    "            if np.size(p) == 1:\n",
    "                xc_array.append([o[2], o[3],\n",
    "                                 fitted_stars.center_flat[p[0][0]][0],\n",
    "                                 fitted_stars.center_flat[p[0][0]][1]])\n",
    "        xc_array = np.array(xc_array)\n",
    "#        print(xc_array)\n",
    "    \n",
    "        # Making dx/dy data.\n",
    "        dx = xc_array[:,2] - xc_array[:,0]\n",
    "        dy = xc_array[:,3] - xc_array[:,1]\n",
    "        dx = dx - np.mean(dx)\n",
    "        dy = dy - np.mean(dy)\n",
    "#        plt.scatter(dx, dy)\n",
    "#        plt.xlabel('$\\Delta$x (px; w/o global offset)')\n",
    "#        plt.ylabel('$\\Delta$y (px; w/o global offset)')\n",
    "#        plt.show()\n",
    "    \n",
    "#        plt.axes().set_aspect('equal')\n",
    "#        plt.quiver(xc_array[:,2], xc_array[:,3], dx, dy,\n",
    "#                   angles='xy', scale_units='xy', scale=0.0003)\n",
    "#        plt.xlabel('X (px)')\n",
    "#        plt.ylabel('Y (px)')\n",
    "#        plt.xlim([0, 1920])\n",
    "#        plt.ylim([0, 1920])\n",
    "#        plt.show()\n",
    "    \n",
    "        # Calculating stddev.\n",
    "#        print(\"STDDEV DX: {} px\".format(np.std(dx)))\n",
    "#        print(\"STDDEV DY: {} px\".format(np.std(dy)))\n",
    "        stddxarr.append(np.std(dx))\n",
    "        stddyarr.append(np.std(dy))\n",
    "        stddrarr.append(np.std(np.sqrt(dx*dx+dy*dy)))\n",
    "\n",
    "    return np.array(stddxarr), np.array(stddyarr), np.array(stddrarr)"
   ]
  },
  {
   "cell_type": "code",
   "execution_count": 8,
   "metadata": {},
   "outputs": [
    {
     "name": "stdout",
     "output_type": "stream",
     "text": [
      "1\n",
      "0\n",
      "Analyzing image.12.0.00.fits...\n",
      "1\n",
      "Analyzing image.12.0.01.fits...\n",
      "2\n",
      "Analyzing image.12.0.02.fits...\n",
      "3\n",
      "Analyzing image.12.0.03.fits...\n",
      "4\n",
      "Analyzing image.12.0.04.fits...\n",
      "5\n",
      "Analyzing image.12.0.05.fits...\n",
      "6\n",
      "Analyzing image.12.0.06.fits...\n",
      "7\n",
      "Analyzing image.12.0.07.fits...\n",
      "8\n",
      "Analyzing image.12.0.08.fits...\n",
      "9\n",
      "Analyzing image.12.0.09.fits...\n",
      "10\n",
      "Analyzing image.12.0.10.fits...\n",
      "2\n",
      "0\n",
      "Analyzing image.12.0.00.fits...\n",
      "1\n",
      "Analyzing image.12.0.01.fits...\n",
      "2\n",
      "Analyzing image.12.0.02.fits...\n",
      "3\n",
      "Analyzing image.12.0.03.fits...\n",
      "4\n",
      "Analyzing image.12.0.04.fits...\n",
      "5\n",
      "Analyzing image.12.0.05.fits...\n",
      "6\n",
      "Analyzing image.12.0.06.fits...\n",
      "7\n",
      "Analyzing image.12.0.07.fits...\n",
      "8\n",
      "Analyzing image.12.0.08.fits...\n",
      "9\n",
      "Analyzing image.12.0.09.fits...\n",
      "10\n",
      "Analyzing image.12.0.10.fits...\n",
      "3\n",
      "0\n",
      "Analyzing image.12.0.00.fits...\n",
      "1\n",
      "Analyzing image.12.0.01.fits...\n",
      "2\n",
      "Analyzing image.12.0.02.fits...\n",
      "3\n",
      "Analyzing image.12.0.03.fits...\n",
      "4\n",
      "Analyzing image.12.0.04.fits...\n",
      "5\n",
      "Analyzing image.12.0.05.fits...\n",
      "6\n",
      "Analyzing image.12.0.06.fits...\n",
      "7\n",
      "Analyzing image.12.0.07.fits...\n",
      "8\n",
      "Analyzing image.12.0.08.fits...\n",
      "9\n",
      "Analyzing image.12.0.09.fits...\n",
      "10\n",
      "Analyzing image.12.0.10.fits...\n",
      "4\n",
      "0\n",
      "Analyzing image.12.0.00.fits...\n",
      "1\n",
      "Analyzing image.12.0.01.fits...\n",
      "2\n",
      "Analyzing image.12.0.02.fits...\n",
      "3\n",
      "Analyzing image.12.0.03.fits...\n",
      "4\n",
      "Analyzing image.12.0.04.fits...\n",
      "5\n",
      "Analyzing image.12.0.05.fits...\n",
      "6\n",
      "Analyzing image.12.0.06.fits...\n",
      "7\n",
      "Analyzing image.12.0.07.fits...\n",
      "8\n",
      "Analyzing image.12.0.08.fits...\n",
      "9\n",
      "Analyzing image.12.0.09.fits...\n",
      "10\n",
      "Analyzing image.12.0.10.fits...\n"
     ]
    }
   ],
   "source": [
    "res=[];\n",
    "for ndiv in [1,2,3,4]:\n",
    "    print(ndiv)\n",
    "    sra=[];\n",
    "    #for mag in np.arange(12.0,15.0,0.5):\n",
    "    for mag in [12.0]:\n",
    "        tmp = []\n",
    "        for i in range(0,11):\n",
    "            print(i)\n",
    "            sxarr, syarr, srarr = func(\"image.{:4.1f}.{:02d}.fits\".format(mag,i),\n",
    "                                 \"../01_params/spcsv_20_1920_10_20_12.0.csv\", mag, ndiv)\n",
    "            tmp.append(srarr.flatten())\n",
    "        sra.append(tmp)\n",
    "    sra = np.array(sra)\n",
    "    acc = np.mean(sra.flatten())\n",
    "    unc = np.std(sra.flatten(),ddof=1)/np.sqrt(np.size(sra.flatten()))\n",
    "    res.append([ndiv, acc, unc])\n",
    "res = np.array(res)"
   ]
  },
  {
   "cell_type": "code",
   "execution_count": 9,
   "metadata": {},
   "outputs": [
    {
     "data": {
      "text/plain": [
       "[[1, 0.004644603375360413, 5.330402292093084e-05],\n",
       " [2, 0.004753821205141862, 4.756167639591625e-05],\n",
       " [3, 0.004794346322465348, 7.297325611992196e-05],\n",
       " [4, 0.00485124821663272, 6.013348707180863e-05]]"
      ]
     },
     "execution_count": 9,
     "metadata": {},
     "output_type": "execute_result"
    }
   ],
   "source": [
    "res"
   ]
  },
  {
   "cell_type": "code",
   "execution_count": 11,
   "metadata": {},
   "outputs": [],
   "source": [
    "res = np.array(res)"
   ]
  },
  {
   "cell_type": "code",
   "execution_count": 15,
   "metadata": {},
   "outputs": [
    {
     "data": {
      "image/png": "[encoded data removed]",
      "text/plain": [
       "<Figure size 432x288 with 1 Axes>"
      ]
     },
     "metadata": {
      "needs_background": "light"
     },
     "output_type": "display_data"
    }
   ],
   "source": [
    "plt.errorbar(400./res[:,0], res[:,1], yerr=res[:,2], capsize=5, fmt='o', markersize=2, \n",
    "             ecolor='black', markeredgecolor = \"black\", color='w', label='Simulation')\n",
    "plt.yscale('log')\n",
    "plt.xscale('log')\n",
    "plt.xlabel('nobj')\n",
    "plt.ylabel('Evaluated accuracy (px)')\n",
    "plt.title('Real-PSF objects w/ 1% interpix flat and 276-mas gaussian ACE')\n",
    "plt.legend()\n",
    "plt.show()"
   ]
  },
  {
   "cell_type": "code",
   "execution_count": null,
   "metadata": {},
   "outputs": [],
   "source": []
  },
  {
   "cell_type": "code",
   "execution_count": 47,
   "metadata": {},
   "outputs": [],
   "source": [
    "a=(1,2,3,4,5)"
   ]
  },
  {
   "cell_type": "code",
   "execution_count": 48,
   "metadata": {},
   "outputs": [
    {
     "data": {
      "text/plain": [
       "(1, 3, 5)"
      ]
     },
     "execution_count": 48,
     "metadata": {},
     "output_type": "execute_result"
    }
   ],
   "source": [
    "a[0::2]"
   ]
  },
  {
   "cell_type": "code",
   "execution_count": null,
   "metadata": {},
   "outputs": [],
   "source": []
  },
  {
   "cell_type": "code",
   "execution_count": null,
   "metadata": {},
   "outputs": [],
   "source": []
  }
 ],
 "metadata": {
  "kernelspec": {
   "display_name": "Python 3",
   "language": "python",
   "name": "python3"
  },
  "language_info": {
   "codemirror_mode": {
    "name": "ipython",
    "version": 3
   },
   "file_extension": ".py",
   "mimetype": "text/x-python",
   "name": "python",
   "nbconvert_exporter": "python",
   "pygments_lexer": "ipython3",
   "version": "3.7.1"
  }
 },
 "nbformat": 4,
 "nbformat_minor": 2
}
