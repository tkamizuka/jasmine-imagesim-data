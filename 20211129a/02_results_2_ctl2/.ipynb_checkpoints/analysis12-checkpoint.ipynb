{
 "cells": [
  {
   "cell_type": "markdown",
   "metadata": {},
   "source": [
    "# Error analysis for positional measurements with PSF fitting"
   ]
  },
  {
   "cell_type": "markdown",
   "metadata": {},
   "source": [
    "We evaluate the expected errors in positional measurements with PSF fitting. In this note, we place the PSF center between four detector pixels.\n",
    "\n",
    "The PSF data is stored as psf.fits in this directory. The PSF is modeled with considering only the aperture pattern and diffraction effects. Wavefront errors and attitude control errors are not considered. At first, we check the PSF data."
   ]
  },
  {
   "cell_type": "markdown",
   "metadata": {},
   "source": [
    "## Loading and plotting the data."
   ]
  },
  {
   "cell_type": "code",
   "execution_count": 1,
   "metadata": {},
   "outputs": [],
   "source": [
    "import astropy.io.fits as pf\n",
    "import matplotlib.pyplot as plt\n",
    "import numpy as np"
   ]
  },
  {
   "cell_type": "code",
   "execution_count": 2,
   "metadata": {},
   "outputs": [],
   "source": [
    "fits = pf.open(\"psf.fits\")[0]"
   ]
  },
  {
   "cell_type": "code",
   "execution_count": 3,
   "metadata": {},
   "outputs": [
    {
     "data": {
      "image/png": "[encoded data removed]",
      "text/plain": [
       "<Figure size 432x288 with 1 Axes>"
      ]
     },
     "metadata": {
      "needs_background": "light"
     },
     "output_type": "display_data"
    }
   ],
   "source": [
    "#plt.imshow(fits.data[250:270,250:270])\n",
    "plt.imshow(fits.data)\n",
    "plt.show()"
   ]
  },
  {
   "cell_type": "code",
   "execution_count": 4,
   "metadata": {},
   "outputs": [
    {
     "data": {
      "text/plain": [
       "(520, 520)"
      ]
     },
     "execution_count": 4,
     "metadata": {},
     "output_type": "execute_result"
    }
   ],
   "source": [
    "fits.data.shape"
   ]
  },
  {
   "cell_type": "markdown",
   "metadata": {},
   "source": [
    "## Data settings."
   ]
  },
  {
   "cell_type": "code",
   "execution_count": 5,
   "metadata": {},
   "outputs": [
    {
     "name": "stdout",
     "output_type": "stream",
     "text": [
      "13.004115226337449\n"
     ]
    }
   ],
   "source": [
    "M = 6320e3; p = 10e-6; EFL = 4860e-3;\n",
    "CellPix = p/EFL*M\n",
    "print(CellPix)"
   ]
  },
  {
   "cell_type": "markdown",
   "metadata": {},
   "source": [
    "The CellPix parameter is set to this value (13). This means that 13 pixels in this psf.fits corresponds to a pixel in the detector."
   ]
  },
  {
   "cell_type": "markdown",
   "metadata": {},
   "source": [
    "## Making PSF image with the detector pixel gridding."
   ]
  },
  {
   "cell_type": "code",
   "execution_count": 10,
   "metadata": {},
   "outputs": [],
   "source": [
    "psf3 = np.copy(fits.data)"
   ]
  },
  {
   "cell_type": "code",
   "execution_count": 11,
   "metadata": {},
   "outputs": [
    {
     "data": {
      "text/plain": [
       "<matplotlib.image.AxesImage at 0x7f890a91e278>"
      ]
     },
     "execution_count": 11,
     "metadata": {},
     "output_type": "execute_result"
    },
    {
     "data": {
      "image/png": "[encoded data removed]",
      "text/plain": [
       "<Figure size 432x288 with 1 Axes>"
      ]
     },
     "metadata": {
      "needs_background": "light"
     },
     "output_type": "display_data"
    }
   ],
   "source": [
    "plt.imshow(psf3[259-4:259+6,259-4:259+6])"
   ]
  },
  {
   "cell_type": "markdown",
   "metadata": {},
   "source": [
    "By binning 13 pixels, we make a PSF data imaged by the detector."
   ]
  },
  {
   "cell_type": "code",
   "execution_count": 45,
   "metadata": {},
   "outputs": [],
   "source": [
    "psf4 = np.zeros(shape=(40,40))\n",
    "for x in range(0,40):\n",
    "    for y in range(0,40):\n",
    "        psf4[y,x] = np.sum(psf3[0+13*y:0+13*y+13, 0+13*x:0+13*x+13])"
   ]
  },
  {
   "cell_type": "code",
   "execution_count": 46,
   "metadata": {},
   "outputs": [
    {
     "data": {
      "text/plain": [
       "<matplotlib.image.AxesImage at 0x7f890a856400>"
      ]
     },
     "execution_count": 46,
     "metadata": {},
     "output_type": "execute_result"
    },
    {
     "data": {
      "image/png": "[encoded data removed]",
      "text/plain": [
       "<Figure size 432x288 with 1 Axes>"
      ]
     },
     "metadata": {
      "needs_background": "light"
     },
     "output_type": "display_data"
    }
   ],
   "source": [
    "plt.imshow(psf4)"
   ]
  },
  {
   "cell_type": "code",
   "execution_count": 48,
   "metadata": {},
   "outputs": [
    {
     "data": {
      "text/plain": [
       "<matplotlib.image.AxesImage at 0x7f890a7332b0>"
      ]
     },
     "execution_count": 48,
     "metadata": {},
     "output_type": "execute_result"
    },
    {
     "data": {
      "image/png": "[encoded data removed]",
      "text/plain": [
       "<Figure size 432x288 with 1 Axes>"
      ]
     },
     "metadata": {
      "needs_background": "light"
     },
     "output_type": "display_data"
    }
   ],
   "source": [
    "plt.imshow(psf4[15:24,15:24])"
   ]
  },
  {
   "cell_type": "markdown",
   "metadata": {},
   "source": [
    "This is the 9x9-cutout PSF image on the detector. The unit is electrons/sec/pixel, and the magnitude is assumed to be 0 mag."
   ]
  },
  {
   "cell_type": "markdown",
   "metadata": {},
   "source": [
    "## Defining a function to make a detector image from the PSF data."
   ]
  },
  {
   "cell_type": "markdown",
   "metadata": {},
   "source": [
    "The procedure to make a PSF image observed by the detector was established as above. We make a function to perform the process as below. In this function, we allow to shift the PSF by dx and dy. The units of dx and dy are not the detector pixel but the pixel in the original PSF pixel (1/13 detector pixel)."
   ]
  },
  {
   "cell_type": "code",
   "execution_count": 50,
   "metadata": {},
   "outputs": [],
   "source": [
    "def func(fits,dx=0,dy=0):\n",
    "    psf0 = np.zeros(shape=(522,522))\n",
    "    psf0[1:521,1:521] = fits.data\n",
    "    \n",
    "    psf1 = np.zeros(shape=(520,520))\n",
    "    psf1[0:520,0:520] = psf0[1-dy:521-dy,\n",
    "                             1-dx:521-dx]\n",
    "    \n",
    "    psf4 = np.zeros(shape=(40,40))\n",
    "    for x in range(0,40):\n",
    "        for y in range(0,40):\n",
    "            psf4[y,x] = np.sum(psf1[0+13*y:0+13*y+13, 0+13*x:0+13*x+13])\n",
    "    \n",
    "    return psf4[15:24,15:24]"
   ]
  },
  {
   "cell_type": "code",
   "execution_count": 51,
   "metadata": {},
   "outputs": [
    {
     "data": {
      "text/plain": [
       "<matplotlib.image.AxesImage at 0x7f890a6b9080>"
      ]
     },
     "execution_count": 51,
     "metadata": {},
     "output_type": "execute_result"
    },
    {
     "data": {
      "image/png": "[encoded data removed]",
      "text/plain": [
       "<Figure size 432x288 with 1 Axes>"
      ]
     },
     "metadata": {
      "needs_background": "light"
     },
     "output_type": "display_data"
    }
   ],
   "source": [
    "plt.imshow(func(fits,dx=0,dy=0))"
   ]
  },
  {
   "cell_type": "markdown",
   "metadata": {},
   "source": [
    "This is the unshifted image."
   ]
  },
  {
   "cell_type": "code",
   "execution_count": 52,
   "metadata": {},
   "outputs": [],
   "source": [
    "img1 = func(fits, dx=0, dy=0)\n",
    "img2 = func(fits, dx=1, dy=0)"
   ]
  },
  {
   "cell_type": "code",
   "execution_count": 53,
   "metadata": {},
   "outputs": [
    {
     "data": {
      "text/plain": [
       "<matplotlib.image.AxesImage at 0x7f890a6400f0>"
      ]
     },
     "execution_count": 53,
     "metadata": {},
     "output_type": "execute_result"
    },
    {
     "data": {
      "image/png": "[encoded data removed]",
      "text/plain": [
       "<Figure size 432x288 with 1 Axes>"
      ]
     },
     "metadata": {
      "needs_background": "light"
     },
     "output_type": "display_data"
    }
   ],
   "source": [
    "plt.imshow(img2)"
   ]
  },
  {
   "cell_type": "markdown",
   "metadata": {},
   "source": [
    "This is a PSF image shifted by dx=1."
   ]
  },
  {
   "cell_type": "code",
   "execution_count": 54,
   "metadata": {},
   "outputs": [
    {
     "data": {
      "text/plain": [
       "<matplotlib.colorbar.Colorbar at 0x7f890a522748>"
      ]
     },
     "execution_count": 54,
     "metadata": {},
     "output_type": "execute_result"
    },
    {
     "data": {
      "image/png": "[encoded data removed]",
      "text/plain": [
       "<Figure size 432x288 with 2 Axes>"
      ]
     },
     "metadata": {
      "needs_background": "light"
     },
     "output_type": "display_data"
    }
   ],
   "source": [
    "plt.imshow(img2-img1)\n",
    "plt.colorbar()"
   ]
  },
  {
   "cell_type": "markdown",
   "metadata": {},
   "source": [
    "This is the differential image. We can see that the image is actually shifted to right."
   ]
  },
  {
   "cell_type": "code",
   "execution_count": 55,
   "metadata": {},
   "outputs": [
    {
     "data": {
      "text/plain": [
       "<matplotlib.colorbar.Colorbar at 0x7f890a47e8d0>"
      ]
     },
     "execution_count": 55,
     "metadata": {},
     "output_type": "execute_result"
    },
    {
     "data": {
      "image/png": "[encoded data removed]",
      "text/plain": [
       "<Figure size 432x288 with 2 Axes>"
      ]
     },
     "metadata": {
      "needs_background": "light"
     },
     "output_type": "display_data"
    }
   ],
   "source": [
    "plt.imshow((img2-img1)/img1)\n",
    "plt.colorbar()"
   ]
  },
  {
   "cell_type": "markdown",
   "metadata": {},
   "source": [
    "This is the fractional map."
   ]
  },
  {
   "cell_type": "markdown",
   "metadata": {},
   "source": [
    "## Deriving the partial differential with respect to the center coordinates."
   ]
  },
  {
   "cell_type": "markdown",
   "metadata": {},
   "source": [
    "We need to know the partial differential of the pixel counts with respect to the PSF center coordinates. At first, we make PSF images slightly shifted to x and y directions."
   ]
  },
  {
   "cell_type": "code",
   "execution_count": 56,
   "metadata": {},
   "outputs": [],
   "source": [
    "img_dx00_dy00 = func(fits,dx=0,dy=0)\n",
    "img_dxp1_dy00 = func(fits,dx=+1,dy=0)\n",
    "img_dxm1_dy00 = func(fits,dx=-1,dy=0)\n",
    "img_dx00_dyp1 = func(fits,dx=0,dy=+1)\n",
    "img_dx00_dym1 = func(fits,dx=0,dy=-1)"
   ]
  },
  {
   "cell_type": "markdown",
   "metadata": {},
   "source": [
    "The images are shifted by +1/-1 PSF pixels. The PSF pixel corresponds to 1/13 detector pixel. Based on this, we can derive the partial differentials as below:"
   ]
  },
  {
   "cell_type": "code",
   "execution_count": 57,
   "metadata": {},
   "outputs": [],
   "source": [
    "dimg_dxc = (img_dxp1_dy00 - img_dxm1_dy00)/(2./13.)\n",
    "dimg_dyc = (img_dx00_dyp1 - img_dx00_dym1)/(2./13.)"
   ]
  },
  {
   "cell_type": "code",
   "execution_count": 58,
   "metadata": {},
   "outputs": [
    {
     "data": {
      "text/plain": [
       "<matplotlib.colorbar.Colorbar at 0x7f890a3636a0>"
      ]
     },
     "execution_count": 58,
     "metadata": {},
     "output_type": "execute_result"
    },
    {
     "data": {
      "image/png": "[encoded data removed]",
      "text/plain": [
       "<Figure size 432x288 with 2 Axes>"
      ]
     },
     "metadata": {
      "needs_background": "light"
     },
     "output_type": "display_data"
    }
   ],
   "source": [
    "plt.imshow(dimg_dxc)\n",
    "plt.xlim([-1,9])\n",
    "plt.ylim([-1,9])\n",
    "plt.colorbar()"
   ]
  },
  {
   "cell_type": "markdown",
   "metadata": {},
   "source": [
    "This is $\\partial N_\\mathrm{ij}/\\partial x_\\mathrm{c}$, where $N_{\\mathrm{ij}}$ is the counts of $(\\mathrm{i}, \\mathrm{j})$ pixel, and $x_\\mathrm{c}$ is the $x$-coordinate of the PSF center."
   ]
  },
  {
   "cell_type": "code",
   "execution_count": 59,
   "metadata": {},
   "outputs": [
    {
     "data": {
      "text/plain": [
       "<matplotlib.colorbar.Colorbar at 0x7f890a314a90>"
      ]
     },
     "execution_count": 59,
     "metadata": {},
     "output_type": "execute_result"
    },
    {
     "data": {
      "image/png": "[encoded data removed]",
      "text/plain": [
       "<Figure size 432x288 with 2 Axes>"
      ]
     },
     "metadata": {
      "needs_background": "light"
     },
     "output_type": "display_data"
    }
   ],
   "source": [
    "plt.imshow(dimg_dyc)\n",
    "plt.xlim([-1,9])\n",
    "plt.ylim([-1,9])\n",
    "plt.colorbar()"
   ]
  },
  {
   "cell_type": "markdown",
   "metadata": {},
   "source": [
    "This is $\\partial N_\\mathrm{ij}/\\partial y_\\mathrm{c}$, where $y_\\mathrm{c}$ is the $y$-coordinate of the PSF center."
   ]
  },
  {
   "cell_type": "markdown",
   "metadata": {},
   "source": [
    "## Calculating the positional estimation error with PSF fitting."
   ]
  },
  {
   "cell_type": "markdown",
   "metadata": {},
   "source": [
    "If we perform least-square PSF fitting to estimate stellar positions, the positional estimation error can be calculated in the way described in the Yamada-san's documents (JASMINE-C3-TN-YY-002; JASMINE-C3-TN-YY-003) and Kataza-san's document (JASMINE-C2-TN-HKZ-20220117-01-check). We try to perform the calculation."
   ]
  },
  {
   "cell_type": "code",
   "execution_count": 60,
   "metadata": {},
   "outputs": [],
   "source": [
    "w = np.diag(1./img_dx00_dy00.flatten())"
   ]
  },
  {
   "cell_type": "markdown",
   "metadata": {},
   "source": [
    "In this calculation, we consider only shot noise. The variance is given by each pixel count, which is stored in img_dx00_dy00 (unshifted image). We calculate $(X\\sigma X^{T})^{-1}$ matrix described in Yamada-san's documents as $w$ shown above."
   ]
  },
  {
   "cell_type": "code",
   "execution_count": 61,
   "metadata": {},
   "outputs": [],
   "source": [
    "Amat = np.matrix(np.concatenate([[dimg_dxc.flatten()],[dimg_dyc.flatten()]]))"
   ]
  },
  {
   "cell_type": "markdown",
   "metadata": {},
   "source": [
    "This array corresponds to $A^T$ in Yamada-san's documents."
   ]
  },
  {
   "cell_type": "code",
   "execution_count": 62,
   "metadata": {},
   "outputs": [
    {
     "name": "stderr",
     "output_type": "stream",
     "text": [
      "/home/kamizuka/.pyenv/versions/anaconda3-2018.12/lib/python3.7/site-packages/ipykernel_launcher.py:1: RuntimeWarning: invalid value encountered in sqrt\n",
      "  \"\"\"Entry point for launching an IPython kernel.\n"
     ]
    },
    {
     "data": {
      "text/plain": [
       "matrix([[3.70196628e-05,            nan],\n",
       "        [           nan, 3.70385919e-05]])"
      ]
     },
     "execution_count": 62,
     "metadata": {},
     "output_type": "execute_result"
    }
   ],
   "source": [
    "np.sqrt((Amat*w*Amat.T).I)"
   ]
  },
  {
   "cell_type": "markdown",
   "metadata": {},
   "source": [
    "This is the square root of $\\Sigma$ matrix in Yamada-san's documents. The (0,0) and (1,1) elements corresponds to the uncertainties of the estimated $x_\\mathrm{c}$ and $y_\\mathrm{c}$, respectively. The units are detector pixels."
   ]
  },
  {
   "cell_type": "markdown",
   "metadata": {},
   "source": [
    "## Defining a function to calculate the estimation uncertainties."
   ]
  },
  {
   "cell_type": "markdown",
   "metadata": {},
   "source": [
    "The procedure to calculate the estimation uncertainties of the center coordinates was established above. We define a function to perform this calculation. In this function, we take into account the object magnitude and exposure time."
   ]
  },
  {
   "cell_type": "code",
   "execution_count": 63,
   "metadata": {},
   "outputs": [],
   "source": [
    "def func2(fits, mag, texp):\n",
    "    img = fits.data*10.**(mag/(-2.5))*texp\n",
    "    \n",
    "    img_dx00_dy00 = func(img,dx=0,dy=0)\n",
    "    img_dxp1_dy00 = func(img,dx=+1,dy=0)\n",
    "    img_dxm1_dy00 = func(img,dx=-1,dy=0)\n",
    "    img_dx00_dyp1 = func(img,dx=0,dy=+1)\n",
    "    img_dx00_dym1 = func(img,dx=0,dy=-1)\n",
    "    \n",
    "    dimg_dxc = (img_dxp1_dy00 - img_dxm1_dy00)/(2./13.)\n",
    "    dimg_dyc = (img_dx00_dyp1 - img_dx00_dym1)/(2./13.)\n",
    "    \n",
    "    w = np.diag(1./img_dx00_dy00.flatten())\n",
    "    Amat = np.matrix(np.concatenate([[dimg_dxc.flatten()],[dimg_dyc.flatten()]]))\n",
    "    err = np.sqrt((Amat*w*Amat.T).I)\n",
    "    \n",
    "    return err"
   ]
  },
  {
   "cell_type": "code",
   "execution_count": 64,
   "metadata": {},
   "outputs": [
    {
     "name": "stdout",
     "output_type": "stream",
     "text": [
      "[[0.00263013        nan]\n",
      " [       nan 0.00263148]]\n"
     ]
    },
    {
     "name": "stderr",
     "output_type": "stream",
     "text": [
      "/home/kamizuka/.pyenv/versions/anaconda3-2018.12/lib/python3.7/site-packages/ipykernel_launcher.py:15: RuntimeWarning: invalid value encountered in sqrt\n",
      "  from ipykernel import kernelapp as app\n"
     ]
    }
   ],
   "source": [
    "print(func2(fits, 12.0, 12.5))"
   ]
  },
  {
   "cell_type": "markdown",
   "metadata": {},
   "source": [
    "This result means that the positional uncertainties are 2.6e-3 pixels for 12.0-mag object with 12.5-sec exposure. This calculation is based on only shot noise, and it seems to be almost consistent with the results shown in Kataza-san's document. If we consider the readout noise, dark current, and stray light, we have to modify $w$ matrix."
   ]
  },
  {
   "cell_type": "markdown",
   "metadata": {},
   "source": [
    "## Magnitude dependency of the estimation uncertainties."
   ]
  },
  {
   "cell_type": "code",
   "execution_count": 65,
   "metadata": {},
   "outputs": [
    {
     "name": "stderr",
     "output_type": "stream",
     "text": [
      "/home/kamizuka/.pyenv/versions/anaconda3-2018.12/lib/python3.7/site-packages/ipykernel_launcher.py:15: RuntimeWarning: invalid value encountered in sqrt\n",
      "  from ipykernel import kernelapp as app\n"
     ]
    }
   ],
   "source": [
    "mags = [12.0, 12.5, 13.0, 13.5, 14.0, 14.5]\n",
    "errs = []\n",
    "texp = 12.5\n",
    "\n",
    "for mag in mags:\n",
    "    errs.append(func2(fits, mag, texp)[0,0])\n",
    "errs = np.array(errs)"
   ]
  },
  {
   "cell_type": "code",
   "execution_count": 66,
   "metadata": {},
   "outputs": [
    {
     "data": {
      "image/png": "[encoded data removed]",
      "text/plain": [
       "<Figure size 432x288 with 1 Axes>"
      ]
     },
     "metadata": {
      "needs_background": "light"
     },
     "output_type": "display_data"
    }
   ],
   "source": [
    "plt.plot(mags, errs, '+')\n",
    "plt.xlabel('Magnitude')\n",
    "plt.ylabel('Uncertainty (pix)')\n",
    "plt.yscale('log')\n",
    "plt.ylim([2e-3,2e-2])\n",
    "plt.show()"
   ]
  },
  {
   "cell_type": "markdown",
   "metadata": {},
   "source": [
    "## Considering dark current and stray light."
   ]
  },
  {
   "cell_type": "markdown",
   "metadata": {},
   "source": [
    "Dark current including stray light is assumed to be 24.5 electrons/sec/pixel in the current default parameter setting. We define a new function to calculate the positional uncertainties with considering the dark current and stray light."
   ]
  },
  {
   "cell_type": "code",
   "execution_count": 67,
   "metadata": {},
   "outputs": [],
   "source": [
    "def func2_wdark(fits, mag, texp, dark):\n",
    "    img = fits.data*10.**(mag/(-2.5))*texp\n",
    "    \n",
    "    img_dx00_dy00 = func(img,dx=0,dy=0)\n",
    "    img_dxp1_dy00 = func(img,dx=+1,dy=0)\n",
    "    img_dxm1_dy00 = func(img,dx=-1,dy=0)\n",
    "    img_dx00_dyp1 = func(img,dx=0,dy=+1)\n",
    "    img_dx00_dym1 = func(img,dx=0,dy=-1)\n",
    "    \n",
    "    dimg_dxc = (img_dxp1_dy00 - img_dxm1_dy00)/(2./13.)\n",
    "    dimg_dyc = (img_dx00_dyp1 - img_dx00_dym1)/(2./13.)\n",
    "    \n",
    "    w = np.diag(1./(img_dx00_dy00+dark*texp).flatten())\n",
    "    Amat = np.matrix(np.concatenate([[dimg_dxc.flatten()],[dimg_dyc.flatten()]]))\n",
    "    err = np.sqrt((Amat*w*Amat.T).I)\n",
    "    \n",
    "    return err"
   ]
  },
  {
   "cell_type": "code",
   "execution_count": 68,
   "metadata": {},
   "outputs": [
    {
     "name": "stderr",
     "output_type": "stream",
     "text": [
      "/home/kamizuka/.pyenv/versions/anaconda3-2018.12/lib/python3.7/site-packages/ipykernel_launcher.py:15: RuntimeWarning: invalid value encountered in sqrt\n",
      "  from ipykernel import kernelapp as app\n"
     ]
    }
   ],
   "source": [
    "errs_wdark = []\n",
    "dark = 24.5\n",
    "\n",
    "for mag in mags:\n",
    "    errs_wdark.append(func2_wdark(fits, mag, texp, dark)[0,0])\n",
    "errs_wdark = np.array(errs_wdark)"
   ]
  },
  {
   "cell_type": "code",
   "execution_count": 69,
   "metadata": {},
   "outputs": [
    {
     "data": {
      "image/png": "[encoded data removed]",
      "text/plain": [
       "<Figure size 432x288 with 1 Axes>"
      ]
     },
     "metadata": {
      "needs_background": "light"
     },
     "output_type": "display_data"
    }
   ],
   "source": [
    "plt.plot(mags, errs, '+', label='Only photon')\n",
    "plt.plot(mags, errs_wdark, 'x', label='Photon+Dark')\n",
    "plt.xlabel('Magnitude')\n",
    "plt.ylabel('Uncertainty (pix)')\n",
    "plt.yscale('log')\n",
    "plt.ylim([2e-3,2e-2])\n",
    "plt.legend()\n",
    "plt.show()"
   ]
  },
  {
   "cell_type": "markdown",
   "metadata": {},
   "source": [
    "## Considering readnoise."
   ]
  },
  {
   "cell_type": "markdown",
   "metadata": {},
   "source": [
    "Readnoise is assumed to be 15 electrons/read in the current default parameter setting. We define a new function to calculate the positional uncertainties with considering the readnoise."
   ]
  },
  {
   "cell_type": "code",
   "execution_count": 70,
   "metadata": {},
   "outputs": [],
   "source": [
    "def func2_wdark_wrn(fits, mag, texp, dark, readnoise):\n",
    "    img = fits.data*10.**(mag/(-2.5))*texp\n",
    "    \n",
    "    img_dx00_dy00 = func(img,dx=0,dy=0)\n",
    "    img_dxp1_dy00 = func(img,dx=+1,dy=0)\n",
    "    img_dxm1_dy00 = func(img,dx=-1,dy=0)\n",
    "    img_dx00_dyp1 = func(img,dx=0,dy=+1)\n",
    "    img_dx00_dym1 = func(img,dx=0,dy=-1)\n",
    "    \n",
    "    dimg_dxc = (img_dxp1_dy00 - img_dxm1_dy00)/(2./13.)\n",
    "    dimg_dyc = (img_dx00_dyp1 - img_dx00_dym1)/(2./13.)\n",
    "    \n",
    "    readnoise2 = np.sqrt(2)*readnoise\n",
    "    w = np.diag(1./(img_dx00_dy00+dark*texp+readnoise2**2.).flatten())\n",
    "    Amat = np.matrix(np.concatenate([[dimg_dxc.flatten()],[dimg_dyc.flatten()]]))\n",
    "    err = np.sqrt((Amat*w*Amat.T).I)\n",
    "    \n",
    "    return err"
   ]
  },
  {
   "cell_type": "code",
   "execution_count": 71,
   "metadata": {},
   "outputs": [
    {
     "name": "stderr",
     "output_type": "stream",
     "text": [
      "/home/kamizuka/.pyenv/versions/anaconda3-2018.12/lib/python3.7/site-packages/ipykernel_launcher.py:16: RuntimeWarning: invalid value encountered in sqrt\n",
      "  app.launch_new_instance()\n"
     ]
    }
   ],
   "source": [
    "errs_wdark_wrn = []\n",
    "readnoise = 15.\n",
    "\n",
    "for mag in mags:\n",
    "    errs_wdark_wrn.append(func2_wdark_wrn(fits, mag, texp, dark, readnoise)[0,0])\n",
    "errs_wdark_wrn = np.array(errs_wdark_wrn)"
   ]
  },
  {
   "cell_type": "code",
   "execution_count": 72,
   "metadata": {},
   "outputs": [
    {
     "data": {
      "image/png": "[encoded data removed]",
      "text/plain": [
       "<Figure size 432x288 with 1 Axes>"
      ]
     },
     "metadata": {},
     "output_type": "display_data"
    }
   ],
   "source": [
    "plt.figure(facecolor=\"white\")\n",
    "plt.plot(mags, errs, '+', label='Only photon')\n",
    "plt.plot(mags, errs_wdark, 'x', label='Photon+Dark')\n",
    "plt.plot(mags, errs_wdark_wrn, '*', label='Photon+Dark+ReadNoise')\n",
    "plt.xlabel('Magnitude')\n",
    "plt.ylabel('Uncertainty (pix)')\n",
    "plt.yscale('log')\n",
    "plt.ylim([2e-3,2e-2])\n",
    "plt.legend()\n",
    "plt.show()"
   ]
  },
  {
   "cell_type": "markdown",
   "metadata": {},
   "source": [
    "This result is slightly worse than that in analysis11.ipynb, where the PSF center is located at the center of a pixel. But it does not differ very much."
   ]
  },
  {
   "cell_type": "code",
   "execution_count": null,
   "metadata": {},
   "outputs": [],
   "source": []
  }
 ],
 "metadata": {
  "kernelspec": {
   "display_name": "Python 3",
   "language": "python",
   "name": "python3"
  },
  "language_info": {
   "codemirror_mode": {
    "name": "ipython",
    "version": 3
   },
   "file_extension": ".py",
   "mimetype": "text/x-python",
   "name": "python",
   "nbconvert_exporter": "python",
   "pygments_lexer": "ipython3",
   "version": "3.7.1"
  }
 },
 "nbformat": 4,
 "nbformat_minor": 2
}
