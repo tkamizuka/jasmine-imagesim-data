{
 "cells": [
  {
   "cell_type": "markdown",
   "id": "f1c4cf40-26ed-4411-8f40-00bf29335480",
   "metadata": {},
   "source": [
    "# PSF check"
   ]
  },
  {
   "cell_type": "markdown",
   "id": "b1eaff39-5f6d-474c-9ce0-1423c6dab4bc",
   "metadata": {},
   "source": [
    "## Import modules"
   ]
  },
  {
   "cell_type": "code",
   "execution_count": 1,
   "id": "94908505-03f9-43ba-a0f6-1b0db6bd3c47",
   "metadata": {},
   "outputs": [],
   "source": [
    "import copy, warnings\n",
    "import numpy as np\n",
    "import matplotlib.pyplot as plt\n",
    "import astropy.io.fits as pf\n",
    "from astropy.modeling import models, fitting\n",
    "from astropy.nddata import NDData\n",
    "from astropy.stats import sigma_clipped_stats\n",
    "from astropy.table import Table\n",
    "from astropy.visualization import simple_norm\n",
    "from photutils.background import MMMBackground\n",
    "from photutils.detection import find_peaks\n",
    "from photutils.psf import EPSFBuilder, extract_stars, EPSFFitter"
   ]
  },
  {
   "cell_type": "markdown",
   "id": "6e840f1b-3710-4c68-9f4b-19b65cb9e2e3",
   "metadata": {},
   "source": [
    "## Define a function"
   ]
  },
  {
   "cell_type": "code",
   "execution_count": 2,
   "id": "fe6d5312-2a97-4681-9f7a-59b44aa66a35",
   "metadata": {},
   "outputs": [],
   "source": [
    "def ePSF_maker(filename, mag, bit, n_maxiter=3, norm_radius=5.5,\n",
    "               recentering_boxsize=5):\n",
    "    '''\n",
    "    filename: Name of the input FITS file.\n",
    "    mag: Object magnitude.\n",
    "    bit: ADC resolution.\n",
    "    n_maxiter: Maximum number of iteration in ePSF analysis.\n",
    "    norm_radius: Number of undersampled pixels \n",
    "                 which determines the radius for flux normalization of ePSF.\n",
    "    recentering_boxsize: Number of undersampled pixels\n",
    "                 which determines the box size for ePSF recentering calculation.\n",
    "    '''\n",
    "    \n",
    "    mask_size = 25   # Edge mask size.\n",
    "    ext_size  = 9    # Size of extraction window.\n",
    "    n_oversample = 4 # Number of oversampling for ePSF.\n",
    "#    n_maxiter    = 3 # Max. number of iteration for making ePSF.\n",
    "#    mag = 12.0       # Object magnitude.\n",
    "    threshold = 3000.*10.**((mag-12.0)/(-2.5))*2.**bit/2.**16\n",
    "#    print(\"Analyzing {}...\".format(filename))\n",
    "    \n",
    "    # Loading image.\n",
    "    hdu = pf.open(filename)[0]\n",
    "    data = hdu.data.astype(np.float32)\n",
    "    norm = simple_norm(data, 'sqrt', percent=99.)\n",
    "#    plt.imshow(data, norm=norm, origin='lower', cmap='viridis')\n",
    "#    plt.xlabel('X (px)')\n",
    "#    plt.ylabel('Y (px)')\n",
    "#    plt.show()\n",
    "    \n",
    "    # Finding peaks.\n",
    "    peaks_tbl = find_peaks(data, threshold=threshold)\n",
    "    peaks_tbl['peak_value'].info.format = '%.8g'  # for consistent table output\n",
    "#    print(peaks_tbl)\n",
    "    \n",
    "    # Removing detections near edge.\n",
    "    hsize = (mask_size - 1) / 2\n",
    "    x = peaks_tbl['x_peak'] \n",
    "    y = peaks_tbl['y_peak'] \n",
    "    mask = ((x > hsize) & (x < (data.shape[1] -1 - hsize)) &\n",
    "            (y > hsize) & (y < (data.shape[0] -1 - hsize)))\n",
    "    stars_tbl = Table()\n",
    "    stars_tbl['x'] = x[mask]\n",
    "    stars_tbl['y'] = y[mask]\n",
    "#    print(stars_tbl)\n",
    "    \n",
    "    # Subtracting background.\n",
    "    mean_val, median_val, std_val = sigma_clipped_stats(data, sigma=2.)  \n",
    "    image = copy.deepcopy(data)\n",
    "    data -= mean_val\n",
    "#    plt.imshow(data, norm=norm, origin='lower', cmap='viridis')\n",
    "#    plt.xlabel('X (px)')\n",
    "#    plt.ylabel('Y (px)')\n",
    "\n",
    "    # Extracting stellar images.\n",
    "    nddata = NDData(data=data)\n",
    "#    print(nddata.data.shape)\n",
    "    stars = extract_stars(nddata, stars_tbl, size=ext_size)\n",
    "#    nrows = 10\n",
    "#    ncols = 10\n",
    "#    fig, ax = plt.subplots(nrows=nrows, ncols=ncols, figsize=(20, 20), squeeze=True)\n",
    "#    ax = ax.ravel()\n",
    "#    for i in range(nrows*ncols):\n",
    "#        norm = simple_norm(stars[i], 'log', percent=99.)\n",
    "#        ax[i].imshow(stars[i], norm=norm, origin='lower', cmap='viridis')\n",
    "#    plt.show()\n",
    "        \n",
    "    # Making ePSF.\n",
    "    epsf_builder = EPSFBuilder(oversampling=n_oversample,\n",
    "                               maxiters=n_maxiter, progress_bar=False,\n",
    "                               norm_radius=norm_radius, recentering_boxsize=recentering_boxsize,\n",
    "                               center_accuracy=0.001)\n",
    "    epsf, fitted_stars = epsf_builder(stars)\n",
    "#    norm = simple_norm(epsf.data, 'log', percent=99.)\n",
    "#    plt.imshow(epsf.data, norm=norm, origin='lower', cmap='viridis')\n",
    "#    plt.xlabel('X (oversampled pix)')\n",
    "#    plt.ylabel('Y (oversampled pix)')\n",
    "#    plt.colorbar()\n",
    "#    plt.show()\n",
    "\n",
    "    return epsf"
   ]
  },
  {
   "cell_type": "markdown",
   "id": "aa2ab9ba-ad60-4f6f-bace-e30cb738918d",
   "metadata": {},
   "source": [
    "## Make ePSF"
   ]
  },
  {
   "cell_type": "code",
   "execution_count": 4,
   "id": "37b425f5-2c36-49a1-9ab1-b8f670e32941",
   "metadata": {},
   "outputs": [],
   "source": [
    "nplate = 11\n",
    "bit = 16\n",
    "\n",
    "filename = f'image.10.0.{nplate:02d}.{bit:2d}bit.fits'\n",
    "epsf100 = ePSF_maker(filename, 10.0, bit)\n",
    "\n",
    "filename = f'image.14.5.{nplate:02d}.{bit:2d}bit.fits'\n",
    "epsf145 = ePSF_maker(filename, 14.5, bit)"
   ]
  },
  {
   "cell_type": "markdown",
   "id": "e2894215-c7bc-4e87-beb8-f8a79dc7d998",
   "metadata": {},
   "source": [
    "## Compare the ePSFs"
   ]
  },
  {
   "cell_type": "code",
   "execution_count": 11,
   "id": "70b90b73-c280-46ad-90be-36d3934cfccd",
   "metadata": {},
   "outputs": [
    {
     "data": {
      "image/png": "[encoded data removed]",
      "text/plain": [
       "<Figure size 1000x500 with 2 Axes>"
      ]
     },
     "metadata": {},
     "output_type": "display_data"
    }
   ],
   "source": [
    "plt.figure(figsize=(10,5))\n",
    "plt.subplot(1,2,1)\n",
    "plt.imshow(epsf100.data)\n",
    "plt.title('ePSF from 10.0-mag data')\n",
    "plt.subplot(1,2,2)\n",
    "plt.imshow(epsf145.data)\n",
    "plt.title('ePSF from 14.5-mag data')\n",
    "plt.tight_layout()\n",
    "plt.show()"
   ]
  },
  {
   "cell_type": "markdown",
   "id": "00a96fdb-cbad-49b0-8802-57109674c634",
   "metadata": {},
   "source": [
    "14.5-mag ePSF looks dirty..."
   ]
  },
  {
   "cell_type": "code",
   "execution_count": null,
   "id": "d05e9a65-683d-40a0-afae-d2528e779af9",
   "metadata": {},
   "outputs": [],
   "source": []
  }
 ],
 "metadata": {
  "kernelspec": {
   "display_name": "Python 3 (ipykernel)",
   "language": "python",
   "name": "python3"
  },
  "language_info": {
   "codemirror_mode": {
    "name": "ipython",
    "version": 3
   },
   "file_extension": ".py",
   "mimetype": "text/x-python",
   "name": "python",
   "nbconvert_exporter": "python",
   "pygments_lexer": "ipython3",
   "version": "3.9.12"
  }
 },
 "nbformat": 4,
 "nbformat_minor": 5
}
